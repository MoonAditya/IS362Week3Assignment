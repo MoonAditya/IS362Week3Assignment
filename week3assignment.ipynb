{
 "cells": [
  {
   "cell_type": "code",
   "execution_count": 87,
   "source": [
    "# import pandas and numpy\r\n",
    "\r\n",
    "import pandas as pd\r\n",
    "\r\n",
    "import numpy as np\r\n",
    "\r\n",
    "cum_miles = np.array([55, 120, 150, 210, 265, 265, 300, 335, 386, 406, 406, 452, 489, 502, 543, 543, \r\n",
    "            590, 610, 623,698, 698,\r\n",
    "            742, 780,802,843,890, 890,967,1018,1060,\r\n",
    "            1100,1100, 1140, 1180,1180, 1206,1287,1331, \r\n",
    "            1371,1371, 1405, 1455, 1500, 1500,\r\n",
    "            1546,1587,1600,1611])\r\n",
    "\r\n",
    "# convert it into panda series\r\n",
    "\r\n",
    "cum_series = pd.Series(cum_miles)\r\n",
    "each_Day = np.array([cum_series[0]])\r\n",
    "\r\n",
    "for i in range(1, len(cum_series)):\r\n",
    "    each_Day = np.append(each_Day, cum_series[i]-cum_series[i-1])\r\n",
    "\r\n",
    "print(\"Days - Miles per day:\")\r\n",
    "print(pd.Series(each_Day))"
   ],
   "outputs": [
    {
     "output_type": "stream",
     "name": "stdout",
     "text": [
      "Days - Miles per day:\n",
      "0     55\n",
      "1     65\n",
      "2     30\n",
      "3     60\n",
      "4     55\n",
      "5      0\n",
      "6     35\n",
      "7     35\n",
      "8     51\n",
      "9     20\n",
      "10     0\n",
      "11    46\n",
      "12    37\n",
      "13    13\n",
      "14    41\n",
      "15     0\n",
      "16    47\n",
      "17    20\n",
      "18    13\n",
      "19    75\n",
      "20     0\n",
      "21    44\n",
      "22    38\n",
      "23    22\n",
      "24    41\n",
      "25    47\n",
      "26     0\n",
      "27    77\n",
      "28    51\n",
      "29    42\n",
      "30    40\n",
      "31     0\n",
      "32    40\n",
      "33    40\n",
      "34     0\n",
      "35    26\n",
      "36    81\n",
      "37    44\n",
      "38    40\n",
      "39     0\n",
      "40    34\n",
      "41    50\n",
      "42    45\n",
      "43     0\n",
      "44    46\n",
      "45    41\n",
      "46    13\n",
      "47    11\n",
      "dtype: int32\n"
     ]
    }
   ],
   "metadata": {}
  },
  {
   "cell_type": "code",
   "execution_count": null,
   "source": [],
   "outputs": [],
   "metadata": {}
  }
 ],
 "metadata": {
  "orig_nbformat": 4,
  "language_info": {
   "name": "python",
   "version": "3.8.8",
   "mimetype": "text/x-python",
   "codemirror_mode": {
    "name": "ipython",
    "version": 3
   },
   "pygments_lexer": "ipython3",
   "nbconvert_exporter": "python",
   "file_extension": ".py"
  },
  "kernelspec": {
   "name": "python3",
   "display_name": "Python 3.8.8 64-bit ('base': conda)"
  },
  "interpreter": {
   "hash": "c469c999aae2bf6d578d6881606ced546d1546d312a4811937df5b24665ee8bc"
  }
 },
 "nbformat": 4,
 "nbformat_minor": 2
}